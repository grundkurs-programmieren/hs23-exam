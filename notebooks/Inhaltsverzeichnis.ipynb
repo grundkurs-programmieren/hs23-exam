{
 "cells": [
  {
   "cell_type": "markdown",
   "id": "a12ec130",
   "metadata": {},
   "source": [
    "\n",
    "  <img src=\"https://i.imgur.com/XSzy00d.png\" style=\"float:right;width:150px\">\n",
    "  \n",
    "  **Inhaltsverzeichnis**\n",
    "  "
   ]
  },
  {
   "cell_type": "markdown",
   "id": "fd1837ff",
   "metadata": {},
   "source": [
    "- [Einfuehrung](09_22_23/Einfuehrung.ipynb)\n",
    "  - [Einleitung](09_22_23/Einfuehrung.ipynb#Einleitung)\n",
    "  - [Wie funktioniert Programmieren?](09_22_23/Einfuehrung.ipynb#Wie-funktioniert-Programmieren?)\n",
    "  - [Das PRIMM Modell](09_22_23/Einfuehrung.ipynb#Das-PRIMM-Modell)\n",
    "  - [JupyterLab](09_22_23/Einfuehrung.ipynb#JupyterLab)\n",
    "  - [Arbeiten mit Renkulab](09_22_23/Einfuehrung.ipynb#Arbeiten-mit-Renkulab)\n",
    "  - [Vorschau](09_22_23/Einfuehrung.ipynb#Vorschau)\n",
    "  - [Zusammenfassung](09_22_23/Einfuehrung.ipynb#Zusammenfassung)\n",
    "  - [Impressum](09_22_23/Einfuehrung.ipynb#Impressum)\n"
   ]
  },
  {
   "cell_type": "markdown",
   "id": "b1d35b56",
   "metadata": {},
   "source": [
    "- [Strings und Variablen](09_29_23/Strings_Variablen.ipynb)\n",
    "  - [Einleitung](09_29_23/Strings_Variablen.ipynb#Einleitung)\n",
    "  - [Die `input()` Funktion](09_29_23/Strings_Variablen.ipynb#Die-`input()`-Funktion)\n",
    "  - [Strings](09_29_23/Strings_Variablen.ipynb#Strings)\n",
    "  - [Variablen](09_29_23/Strings_Variablen.ipynb#Variablen)\n",
    "  - [Die `print` Funktion](09_29_23/Strings_Variablen.ipynb#Die-`print`-Funktion)\n",
    "  - [Schlussaufgabe](09_29_23/Strings_Variablen.ipynb#Schlussaufgabe)\n",
    "  - [Zusammenfassung](09_29_23/Strings_Variablen.ipynb#Zusammenfassung)\n",
    "  - [Impressum](09_29_23/Strings_Variablen.ipynb#Impressum)\n"
   ]
  },
  {
   "cell_type": "markdown",
   "id": "6a0bd4d1",
   "metadata": {},
   "source": [
    "- [Zeichenketten und Iteration](10_06_23/Zeichenketten_Iteration.ipynb)\n",
    "  - [Einleitung](10_06_23/Zeichenketten_Iteration.ipynb#Einleitung)\n",
    "  - [Zeichenketten](10_06_23/Zeichenketten_Iteration.ipynb#Zeichenketten)\n",
    "  - [Integer](10_06_23/Zeichenketten_Iteration.ipynb#Integer)\n",
    "  - [Eine `\"1\"` ist keine `1`](10_06_23/Zeichenketten_Iteration.ipynb#Eine-`\"1\"`-ist-keine-`1`)\n",
    "  - [Typumwandlung](10_06_23/Zeichenketten_Iteration.ipynb#Typumwandlung)\n",
    "  - [Iteration](10_06_23/Zeichenketten_Iteration.ipynb#Iteration)\n",
    "  - [Schlussaufgabe](10_06_23/Zeichenketten_Iteration.ipynb#Schlussaufgabe)\n",
    "  - [Zusammenfassung](10_06_23/Zeichenketten_Iteration.ipynb#Zusammenfassung)\n",
    "  - [Impressum](10_06_23/Zeichenketten_Iteration.ipynb#Impressum)\n"
   ]
  },
  {
   "cell_type": "markdown",
   "id": "c6a5f745",
   "metadata": {},
   "source": [
    "- [Keywords und Funktionen](10_13_23/Keywords_Funktionen.ipynb)\n",
    "  - [Einleitung](10_13_23/Keywords_Funktionen.ipynb#Einleitung)\n",
    "  - [Keywords](10_13_23/Keywords_Funktionen.ipynb#Keywords)\n",
    "  - [Funktionen](10_13_23/Keywords_Funktionen.ipynb#Funktionen)\n",
    "  - [Scope](10_13_23/Keywords_Funktionen.ipynb#Scope)\n",
    "  - [Schlussaufgabe](10_13_23/Keywords_Funktionen.ipynb#Schlussaufgabe)\n",
    "  - [Zusammenfassung](10_13_23/Keywords_Funktionen.ipynb#Zusammenfassung)\n",
    "  - [Impressum](10_13_23/Keywords_Funktionen.ipynb#Impressum)\n"
   ]
  },
  {
   "cell_type": "markdown",
   "id": "f2495de9",
   "metadata": {},
   "source": [
    "- [Listen und Methoden](10_20_23/Listen_Methoden.ipynb)\n",
    "  - [Einleitung](10_20_23/Listen_Methoden.ipynb#Einleitung)\n",
    "  - [Listen](10_20_23/Listen_Methoden.ipynb#Listen)\n",
    "  - [Debugger und Breakpoints](10_20_23/Listen_Methoden.ipynb#Debugger-und-Breakpoints)\n",
    "  - [Methoden](10_20_23/Listen_Methoden.ipynb#Methoden)\n",
    "  - [Computational Thinking](10_20_23/Listen_Methoden.ipynb#Computational-Thinking)\n",
    "  - [Schlussaufgabe](10_20_23/Listen_Methoden.ipynb#Schlussaufgabe)\n",
    "  - [Zusammenfassung](10_20_23/Listen_Methoden.ipynb#Zusammenfassung)\n",
    "  - [Impressum](10_20_23/Listen_Methoden.ipynb#Impressum)\n"
   ]
  },
  {
   "cell_type": "markdown",
   "id": "bad204ef",
   "metadata": {},
   "source": [
    "- [If und else](10_27_23/If_else.ipynb)\n",
    "  - [Einleitung](10_27_23/If_else.ipynb#Einleitung)\n",
    "  - [Bedingungen](10_27_23/If_else.ipynb#Bedingungen)\n",
    "  - [Verschachtelte Bedingungen](10_27_23/If_else.ipynb#Verschachtelte-Bedingungen)\n",
    "  - [List Comprehensions](10_27_23/If_else.ipynb#List-Comprehensions)\n",
    "  - [Abschlussaufgabe](10_27_23/If_else.ipynb#Abschlussaufgabe)\n",
    "  - [Zusammenfassung](10_27_23/If_else.ipynb#Zusammenfassung)\n",
    "  - [Impressum](10_27_23/If_else.ipynb#Impressum)\n"
   ]
  },
  {
   "cell_type": "markdown",
   "id": "7aae79a6",
   "metadata": {},
   "source": [
    "- [While und Logische-Operatoren](11_03_23/While_Logische-Operatoren.ipynb)\n",
    "  - [Einleitung](11_03_23/While_Logische-Operatoren.ipynb#Einleitung)\n",
    "  - [While Loop](11_03_23/While_Logische-Operatoren.ipynb#While-Loop)\n",
    "  - [Logische Operatoren](11_03_23/While_Logische-Operatoren.ipynb#Logische-Operatoren)\n",
    "  - [Abschlussaufgabe](11_03_23/While_Logische-Operatoren.ipynb#Abschlussaufgabe)\n",
    "  - [Zusammenfassung](11_03_23/While_Logische-Operatoren.ipynb#Zusammenfassung)\n",
    "  - [Impressum](11_03_23/While_Logische-Operatoren.ipynb#Impressum)\n"
   ]
  },
  {
   "cell_type": "markdown",
   "id": "856c959a",
   "metadata": {},
   "source": [
    "- [Dictionaries und Ressourcen](11_10_23/Dictionaries_Ressourcen.ipynb)\n",
    "  - [Einleitung](11_10_23/Dictionaries_Ressourcen.ipynb#Einleitung)\n",
    "  - [Dictionaries](11_10_23/Dictionaries_Ressourcen.ipynb#Dictionaries)\n",
    "  - [Arbeiten mit Dateien](11_10_23/Dictionaries_Ressourcen.ipynb#Arbeiten-mit-Dateien)\n",
    "  - [JSON](11_10_23/Dictionaries_Ressourcen.ipynb#JSON)\n",
    "  - [Abschlussaufgabe](11_10_23/Dictionaries_Ressourcen.ipynb#Abschlussaufgabe)\n",
    "  - [Zusatzaufgabe für Interessierte](11_10_23/Dictionaries_Ressourcen.ipynb#Zusatzaufgabe-für-Interessierte)\n",
    "  - [Zusammenfassung](11_10_23/Dictionaries_Ressourcen.ipynb#Zusammenfassung)\n",
    "  - [Impressum](11_10_23/Dictionaries_Ressourcen.ipynb#Impressum)\n"
   ]
  },
  {
   "cell_type": "markdown",
   "id": "e3033f93",
   "metadata": {},
   "source": [
    "- [Module, Objekte und Datum](11_17_23/Module_Objekte_Datum.ipynb)\n",
    "  - [Einleitung](11_17_23/Module_Objekte_Datum.ipynb#Einleitung)\n",
    "  - [Module](11_17_23/Module_Objekte_Datum.ipynb#Module)\n",
    "  - [Objekte](11_17_23/Module_Objekte_Datum.ipynb#Objekte)\n",
    "  - [Datum und Zeit](11_17_23/Module_Objekte_Datum.ipynb#Datum-und-Zeit)\n",
    "  - [Abschlussaufgabe](11_17_23/Module_Objekte_Datum.ipynb#Abschlussaufgabe)\n",
    "  - [Zusammenfassung](11_17_23/Module_Objekte_Datum.ipynb#Zusammenfassung)\n",
    "  - [Impressum](11_17_23/Module_Objekte_Datum.ipynb#Impressum)\n"
   ]
  },
  {
   "cell_type": "markdown",
   "id": "25930a6c",
   "metadata": {},
   "source": [
    "- [NumPy und Pandas](11_24_23/NumPy_Pandas.ipynb)\n",
    "  - [Einleitung](11_24_23/NumPy_Pandas.ipynb#Einleitung)\n",
    "  - [NumPy](11_24_23/NumPy_Pandas.ipynb#NumPy)\n",
    "  - [Pandas](11_24_23/NumPy_Pandas.ipynb#Pandas)\n",
    "  - [Schlussaufgabe](11_24_23/NumPy_Pandas.ipynb#Schlussaufgabe)\n",
    "  - [Zusammenfassung](11_24_23/NumPy_Pandas.ipynb#Zusammenfassung)\n",
    "  - [Impressum](11_24_23/NumPy_Pandas.ipynb#Impressum)\n"
   ]
  },
  {
   "cell_type": "markdown",
   "id": "2d2fa76e",
   "metadata": {},
   "source": [
    "- [Matplotlib und Widgets](12_01_23/Matplotlib_Widgets.ipynb)\n",
    "  - [Einleitung](12_01_23/Matplotlib_Widgets.ipynb#Einleitung)\n",
    "  - [Matplotlib](12_01_23/Matplotlib_Widgets.ipynb#Matplotlib)\n",
    "  - [Widgets](12_01_23/Matplotlib_Widgets.ipynb#Widgets)\n",
    "  - [Schlussaufgabe - Aufwändig aber lehrreich!](12_01_23/Matplotlib_Widgets.ipynb#Schlussaufgabe---Aufwändig-aber-lehrreich!)\n",
    "  - [Zusammenfassung](12_01_23/Matplotlib_Widgets.ipynb#Zusammenfassung)\n",
    "  - [Impressum](12_01_23/Matplotlib_Widgets.ipynb#Impressum)\n"
   ]
  },
  {
   "cell_type": "markdown",
   "id": "1aa29d16",
   "metadata": {},
   "source": [
    "- [GIS](12_08_23/GIS.ipynb)\n",
    "  - [Einleitung](12_08_23/GIS.ipynb#Einleitung)\n",
    "  - [Georeferenzierte Daten](12_08_23/GIS.ipynb#Georeferenzierte-Daten)\n",
    "  - [GeoJSON](12_08_23/GIS.ipynb#GeoJSON)\n",
    "  - [Folium](12_08_23/GIS.ipynb#Folium)\n",
    "  - [GeoPandas](12_08_23/GIS.ipynb#GeoPandas)\n",
    "  - [Schlussaufgabe](12_08_23/GIS.ipynb#Schlussaufgabe)\n",
    "  - [Zusammenfassung](12_08_23/GIS.ipynb#Zusammenfassung)\n",
    "  - [Impressum](12_08_23/GIS.ipynb#Impressum)\n"
   ]
  }
 ],
 "metadata": {},
 "nbformat": 4,
 "nbformat_minor": 5
}
