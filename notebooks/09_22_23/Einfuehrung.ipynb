{
 "cells": [
  {
   "cell_type": "markdown",
   "id": "d828ed83-8c88-4259-94b9-8ee0b796369f",
   "metadata": {
    "tags": []
   },
   "source": [
    "<img src=\"https://i.imgur.com/XSzy00d.png\" style=\"float:right;width:150px\">\n",
    "\n",
    "**Einführung in die Vorlesung Grundkurs Programmieren**\n",
    "\n",
    "# Einleitung\n",
    "\n",
    "## Lernziele\n",
    "\n",
    "* Sie verstehen, was **Programmieren** ist\n",
    "* Sie kennen das **PRIMM Modell** und die Vorteile, die es für Programmierneulinge bietet\n",
    "* Sie wissen, wie mit **JupyterLab** gearbeitet wird\n",
    "* Sie verstehen den Unterschied zwischen einer **Code-** und einer **Markdown-Zelle**\n",
    "* Sie kennen die Funktionsweise von Renkulab und haben einen **Fork** des Grundkurs Repository in Ihren persönlichen Account gemacht\n",
    "* Sie sind **motiviert**, das Programmieren nun im Rahmen des Grundkurses zu lernen"
   ]
  },
  {
   "cell_type": "markdown",
   "id": "87dece25-0db2-4997-88a4-13137d8f5d5f",
   "metadata": {
    "tags": []
   },
   "source": [
    "# Wie funktioniert *Programmieren*?\n",
    "\n",
    "Das ist ein \"Grundkurs Programmieren\". Aber was heisst überhaupt *Programmieren*? Unter Programmieren wird verstanden, dass einem Computer in einer sehr stark formalisierten Sprache, der sogenannten **Programmiersprache** Anweisungen gegeben werden, was er zu tun hat. Diese Programmiersprache wird mit Hilfe der Tastatur eingegeben (es gibt auch mehr \"mausbasierte\" Ansätze wie bspw. [Scratch](https://scratch.mit.edu/)). Die Gesamtheit dieser Befehle wird als **Programmcode**, **Quellcode**, **Quelltext** oder kurz einfach **Programm** bezeichnet. Solange Programmcode nur aufgeschrieben wird, passiert noch gar nichts. Der Computer beginnt erst mit dem sogenannten **Ausführen** dieses Programmcodes damit, diese Befehle **schrittweise** auszuführen. Dies ist jeweils der spannende Moment, wenn klar wird, ob der Programmcode das bewirkt, was beabsichtigt worden ist."
   ]
  },
  {
   "cell_type": "markdown",
   "id": "bcd7fe37-639f-4b12-bc21-888adb5e953d",
   "metadata": {},
   "source": [
    "## Quellcode Beispiel\n",
    "\n",
    "Nachfolgend ist ein Quellcode in Python gegeben, der direkt im Jupyter Notebook ausgeführt werden kann dazu muss mit dem Mauszeiger in die nachfolgenden Zelle geklickt werden und danach der \"Play-Button\" in der Menuleiste gedrückt werden:"
   ]
  },
  {
   "cell_type": "code",
   "execution_count": 1,
   "id": "031b6a8a-18ef-4415-963b-e841d2feb4c2",
   "metadata": {
    "tags": []
   },
   "outputs": [
    {
     "name": "stdout",
     "output_type": "stream",
     "text": [
      "Am 2023-11-21 ist ein guter Tag, um mit dem Programmieren zu beginnen!\n"
     ]
    }
   ],
   "source": [
    "from datetime import date\n",
    "\n",
    "today = date.today()\n",
    "\n",
    "print(\"Am\", today, \"ist ein guter Tag, um mit dem Programmieren zu beginnen!\")"
   ]
  },
  {
   "cell_type": "markdown",
   "id": "7492a326-7678-4e6a-a527-a4effae3ca1d",
   "metadata": {},
   "source": [
    "# Das PRIMM Modell\n",
    "\n",
    "<a href=\"https://blog.teachcomputing.org/using-primm-to-structure-programming-lessons/\"><img src=\"https://blog.teachcomputing.org/content/images/2020/09/logo.png\" style=\"float:right;width:300px\"></a>\n",
    "\n",
    "\n",
    "Das pädagogische Konzept, auf dem der Grundkrus Programmieren aufgebaut ist, wird **PRIMM Modell** genannt. Die Erkenntnis dahinter ist, dass es ziemlich schwierig ist, direkt eigenen Programmcode zu schreiben und es diverse Vorstufen braucht, um damit vertraut zu werden. Dabei steht PRIMM für die Anfangsbuchstaben der benötigten Schritte beim Programmierenlernen:\n",
    "\n",
    "**P**redict, **R**un, **I**nvestigate, **M**odify, **M**ake\n",
    "\n",
    "Was damit gemeint ist:\n",
    "\n",
    "1. **P**redict: Versuche vorherzusagen, was ein bestimmter Programmcode bei der Ausführung bewirken wird.\n",
    "2. **R**un: Führe das Programm aus, um zu sehen, was tatsächlich passiert.\n",
    "3. **I**nvestigate: Versuche die einzelnen Elemente des Programmcodes und deren Auswirkung zu verstehen.\n",
    "4. **M**odify: Passe den Programmcode an und studiere die entsprechenden Auswirkungen.\n",
    "5. **M**ake: Schreibe nun deinen eigenen Code, der genau das macht, was du möchtest.\n",
    "\n",
    "Im Grundkurs Programmieren wird daher relativ viel fertiger Programmcode zur Verfügung gestellt, mit dem Hinweis, dass es wichtig ist, diesen nicht sofort auszuführen, sondern wirklich zuerst selbstständig darüber nachzudenken, was passieren wird. **Wer diesen Schritt leichtfertig überspringt, bringt sich um einen grossen Teil des Lerneffekts (nach Ausführen des Programms ist es meist deutlich einfacher zu erklären, wieso das passiert ist, was passiert ist)**.\n",
    "\n",
    "Wer mehr über das Thema PRIMM lesen möchte, der sei folgende Quellen empfohlen: \n",
    "\n",
    "* Blog Post: [Quick Read: Using PRIMM to structure programming lessons](https://blog.teachcomputing.org/using-primm-to-structure-programming-lessons/)\n",
    "* Research Article: [Teaching computer programming with PRIMM: a sociocultural perspective](https://doi.org/10.1080/08993408.2019.1608781)"
   ]
  },
  {
   "cell_type": "markdown",
   "id": "c428e49f-4c1d-452a-8e6d-2ec514dfb25e",
   "metadata": {},
   "source": [
    "Demonstration für die Vorgehensweise nach PRIMM. Nachfolgender Python Quellcode ist gegeben:"
   ]
  },
  {
   "cell_type": "code",
   "execution_count": 2,
   "id": "4ba4efcf-54b6-41cd-b8fe-4bce7ad6a730",
   "metadata": {
    "tags": []
   },
   "outputs": [
    {
     "name": "stdout",
     "output_type": "stream",
     "text": [
      "[0, 1, 2, 3, 4, 5, 6, 7, 8, 9]\n",
      "Der aktuelle Wert ist: 0\n",
      "Der aktuelle Wert ist: 1\n",
      "Der aktuelle Wert ist: 2\n",
      "Der aktuelle Wert ist: 3\n",
      "Der aktuelle Wert ist: 4\n",
      "Der aktuelle Wert ist: 5\n",
      "Der aktuelle Wert ist: 6\n",
      "Der aktuelle Wert ist: 7\n",
      "Der aktuelle Wert ist: 8\n",
      "Der aktuelle Wert ist: 9\n"
     ]
    }
   ],
   "source": [
    "values = list(range(10))\n",
    "\n",
    "print(values)\n",
    "\n",
    "for value in values:\n",
    "    print(\"Der aktuelle Wert ist:\", value)"
   ]
  },
  {
   "cell_type": "markdown",
   "id": "20709de7-b094-40c1-acad-1fe9d2f2013d",
   "metadata": {},
   "source": [
    "* **P**redict: Wir wissen noch wenig über Programmieren, denken aber, dass irgendwas mit der Zahl '10' passieren wird und dass der Ausdruck 'Der aktuelle Wert ist:' irgendwie wieder auftauchen wird, wenn wir den Quellcode ausführen.\n",
    "* **R**un: Quellcode ausführen.\n",
    "* **I**nvestigate: Die Zahl '10' hat irgendwie wohl etwas damit zu tun, dass diese `values` von 0-9 gehen und dass der Text 'Der aktuelle Wert ist:' zehnmal vorkommt.\n",
    "* **M**odify: Wir passen den Wert für '10' an und schreiben etwas anderes für 'Der aktuelle Wert ist:' und fügen noch einen weiteren Text hinzu und schauen, was passiert:"
   ]
  },
  {
   "cell_type": "code",
   "execution_count": 3,
   "id": "ebdaebf9-ba3c-4ea3-9868-9914fae3634d",
   "metadata": {
    "tags": []
   },
   "outputs": [
    {
     "name": "stdout",
     "output_type": "stream",
     "text": [
      "[0, 1, 2, 3, 4]\n",
      "Die neue Zahl ist: 0 eine wahrhaft schöne Zahl\n",
      "Die neue Zahl ist: 1 eine wahrhaft schöne Zahl\n",
      "Die neue Zahl ist: 2 eine wahrhaft schöne Zahl\n",
      "Die neue Zahl ist: 3 eine wahrhaft schöne Zahl\n",
      "Die neue Zahl ist: 4 eine wahrhaft schöne Zahl\n"
     ]
    }
   ],
   "source": [
    "values = list(range(5))\n",
    "\n",
    "print(values)\n",
    "\n",
    "for value in values:\n",
    "    print(\"Die neue Zahl ist:\", value, \"eine wahrhaft schöne Zahl\")"
   ]
  },
  {
   "cell_type": "markdown",
   "id": "2a54920e-cf76-43ae-ae8e-818bc7e85516",
   "metadata": {},
   "source": [
    "Wir verstehen nun also etwas besser, was es mit diesem `list(range(x))` auf sich hat, hier wird irgendwie eine Reihe von Zahlen von '0' bis 'x-1' erzeugt und mit Hilfe dieser `for...` Konstruktion wird für jede von diesen Zahlen dieser bestimmte Text erzeugt, der sich nur durch den Wert der Zahl unterscheidet.\n",
    "* **M**ake: Jetzt möchten wir das Programm neu gestalten:"
   ]
  },
  {
   "cell_type": "code",
   "execution_count": 4,
   "id": "44989bf1-ecde-4e79-8ee6-008997e033f3",
   "metadata": {
    "tags": []
   },
   "outputs": [
    {
     "name": "stdout",
     "output_type": "stream",
     "text": [
      "[1, 2, 3, 4, 5]\n",
      "Das Quadrat der Zahl 1 ist: 1\n",
      "Das Quadrat der Zahl 2 ist: 4\n",
      "Das Quadrat der Zahl 3 ist: 9\n",
      "Das Quadrat der Zahl 4 ist: 16\n",
      "Das Quadrat der Zahl 5 ist: 25\n"
     ]
    }
   ],
   "source": [
    "values = list(range(1,6))\n",
    "\n",
    "print(values)\n",
    "\n",
    "for value in values:\n",
    "    print(\"Das Quadrat der Zahl\", value, \"ist:\", value ** 2)"
   ]
  },
  {
   "cell_type": "markdown",
   "id": "1aedfaea-ec68-43e0-9837-6068f123082f",
   "metadata": {},
   "source": [
    "Dafür haben wir in der Dokumentation zu Python noch nachschauen müssen, wie wir `range()` so verwenden können, dass die erste Zahl nicht eine '0' ist und wir haben nachschauen müssen, wie man eine Zahl quadrieren kann."
   ]
  },
  {
   "cell_type": "markdown",
   "id": "1f22d3e3-af1d-4c49-8b21-74295c8eb238",
   "metadata": {},
   "source": [
    "# JupyterLab\n",
    "\n",
    "[JupyterLab](https://jupyter.org/) ist eine Software, die es erlaubt, mit sogenannten **interaktiven Notebooks** zu arbeiten. Interaktiv bezieht sich darauf, dass diese Notebooks Programmiercode beinhalten können, den man direkt im Notebook *bearbeiten* und *ausführen* kann. Man sieht also sofort das Resultat von dem, was man programmiert hat (was beim Programmieren keine Selbstverständlichkeit ist).\n",
    "\n",
    "JupyterLab ist eine Software, die für die Endanwenderin vollständig im **Webbrowser** funktioniert. Um JupyterLab aufzurufen, muss also auf eine Webadresse geklickt werden, dann öffnet sich nach einer Weile die Programmierumgebung in einem neuen Browserfenster. Damit das so funktioniert, muss auf einem anderen Computer, der ebenfalls ans Internet angeschlossen ist (dieser wird als Server bezeichnet) relativ umfangreiche Software gestartet und ausgeführt werden. Für unseren Grundkurs Programmieren läuft diese Serversoftware auf [Renkulab](https://renkulab.io/), das vom [Swiss Data Science Center](https://datascience.ch/) betrieben wird.\n",
    "\n",
    "Diese Server Software kann prinzipiell auch auf dem eigenen Computer installiert und ausgeführt werden, das entspricht dann einer sogenannten **lokalen Installation**, die eigentliche Bedienung geschieht aber weiterhin über den Webbrowser."
   ]
  },
  {
   "cell_type": "markdown",
   "id": "cd8b2862-2d00-48c2-a3ff-b43a6fb45530",
   "metadata": {},
   "source": [
    "<div class=\"gk-exercise\">\n",
    "\n",
    "<img src=\"https://i.imgur.com/JyhBeDB.png\" style=\"float:right;width:150px\" class=\"gk-exercise-image\">\n",
    "\n",
    "<span class=\"gk-exercise-label\"><h1>Aufgabe</h1></span>\n",
    "\n",
    "Schaue dir die [Dokumentation](https://jupyterlab.readthedocs.io/en/stable/index.html) von JupyterLab an und suche den Abschnitt zu den eigentlichen Notebooks. Schau dir ein paar Videos an und nutze dann die Suchfunktion, um etwas zum Thema Inhaltsverzeichnis (Table of Contents) zu erfahren.\n",
    "</div>"
   ]
  },
  {
   "cell_type": "markdown",
   "id": "32c0e2e2-5fda-481f-952c-3c14626795da",
   "metadata": {},
   "source": [
    "## Aufbau von JupyterLab\n",
    "\n",
    "JupyterLab besteht aus verschiedenen Elementen. Die drei wichtigsten sind (jeweils mit den englischen Originalbegriffen):\n",
    "\n",
    "* Hauptfenster / main work area (gelb)\n",
    "* Linke Seitenleiste / left sidebar (rot)\n",
    "* Menuleiste / menu bar (grün)\n",
    "\n",
    "<img src=\"https://i.imgur.com/tl8nZOF.jpg\">\n",
    "\n",
    "Im Hauptfenster werden jeweils die eigentlichen Notebooks in separaten Tabs (analog zu Browser Tabs) angezeigt und bearbeitet. In der Menuleiste finden sich alle notwendigen Befehle, um mit den Notebooks zu arbeiten und in der linken Seitenleiste befinden sich wichtige Anzeigen, die man häufig im direkten Blickfeld haben möchte. Diese lassen sich über die ganz links befindlichen Buttons auswählen resp. kann mit einem erneuten Klick auf den aktiven Button die gesamte Seitenleiste ausgeblendet werden."
   ]
  },
  {
   "cell_type": "markdown",
   "id": "3af56177-f483-4a84-b730-68178bd91f99",
   "metadata": {},
   "source": [
    "## Notebookzellen\n",
    "\n",
    "Jedes Notebook ist in sogenannten **Zellen** aufgebaut. Eine Zelle beinhaltet entweder:\n",
    "\n",
    "* *Inhalt* oder \n",
    "* *Quellcode*\n",
    "\n",
    "Der Zelltyp wird in der Titelzeile des jeweiligen Notebook-Tabs angezeigt und über das dortige Dropdown Menu kann er auch verändert werden.\n",
    "\n",
    "### Markdown-Zellen\n",
    "\n",
    "Ein sehr nützliches Feature der interaktiven Notebooks ist die Möglichkeit, \"Notizen\" innerhalb des Notebooks zu erstellen. Diese Notizen werden in Markdown-Zellen geschrieben. [Markdown](https://de.wikipedia.org/wiki/Markdown) ist eine Auszeichnungssprache. Das bedeutet, dass mit Hilfe von *Steuerzeichen* innerhalb einer Markdown-Zelle dem entsprechenden Text ein bestimmtes Aussehen zugewiesen werden kann, die entsprechende Textstelle eben *ausgezeichnet* werden kann.\n",
    "\n",
    "Bei einem Klick in eine Markdown-Zelle wird diese nur ausgewählt, um einen Cursor zu setzen und sie zu bearbeiten, ist ein Doppelklick nötig. Wenn Markdown-Zellen ausgeführt werden, werden die Steuerzeichen ausgeführt und der Text in der entsprechenden Auszeichnung angezeigt.\n",
    "\n",
    "JupyterLab hat eine integrierte Markdown Referenz, sie ist über das Menu \"Help/Markdown Reference\" aufrufbar ![Markdown_Ref](https://i.imgur.com/2vsrBM2.jpg).\n",
    "\n",
    "### Code-Zellen\n",
    "\n",
    "Code-Zellen dienen wie der Name suggeriert dazu, Quellcode aufzuschreiben und auszuführen. Wenn in eine Code-Zelle geklickt wird, wird sofort ein Cursor an der entsprechenden Stelle gesetzt und es kann sofort mit der Bearbeitung begonnen werden. Bei der Ausführung der Code-Zelle wird der gesamte Code dieser Zelle ausgeführt.\n",
    "\n",
    "Im Gegensatz zu Markdown-Zellen befinden sich neben Code-Zellen folgende Symbole `[ ]`. Dadruch wird der Zustand der Code-Zelle kommuniziert, es wird zwischen folgenden drei Zuständen unterschieden:\n",
    "\n",
    "- `[ ]`: Die Zelle wurde noch nicht ausgeführt\n",
    "- `[*]`: Die Zelle wird zur Zeit ausgeführt\n",
    "- `[x]`: Die Zelle wurde als `x`-te Zelle ausgeführt\n",
    "\n",
    "Diese Möglichkeit, Lerninhalte direkt mit Quellcode zu kombinieren (was im klassichen Programmieren so grundsätzlich nicht möglich ist) unterstützt das **PRIMM** Lernmodell besonders gut."
   ]
  },
  {
   "cell_type": "markdown",
   "id": "232ef208",
   "metadata": {},
   "source": [
    "<div class=\"gk-exercise\">\n",
    "    \n",
    "<img src=\"https://i.imgur.com/JyhBeDB.png\" class=\"gk-exercise-image\" style=\"float:right;width:150px\">\n",
    "    \n",
    "<span class=\"gk-exercise-label\">Aufgabe</span> \n",
    "\n",
    "Ändere den Zelltyp der folgenden Zelle und führe sie aus.\n",
    "\n",
    "</div>"
   ]
  },
  {
   "cell_type": "markdown",
   "id": "895985b2",
   "metadata": {},
   "source": [
    "print(\"Gut gemacht, Du bist auf dem besten Weg zu einer Profi-Programmiererin\")"
   ]
  },
  {
   "cell_type": "markdown",
   "id": "c4f591bb-4d30-46a5-8c86-2bb21b23aea0",
   "metadata": {},
   "source": [
    "---"
   ]
  },
  {
   "cell_type": "markdown",
   "id": "851841ec",
   "metadata": {},
   "source": [
    "<div class=\"gk-exercise\">\n",
    "    \n",
    "<img src=\"https://i.imgur.com/JyhBeDB.png\" class=\"gk-exercise-image\" style=\"float:right;width:150px\">\n",
    "    \n",
    "<span class=\"gk-exercise-label\">Aufgabe</span> \n",
    "\n",
    "Erstelle nachfolgend eine Markdown-Zelle und bearbeite den nachfolgenden Text so, dass er dem untenstehenden Bild entspricht. Der entsprechende Link soll auf die Seite https://www.codingdojo.com/blog/is-coding-hard führen. ![Markdown_Exercise](https://i.imgur.com/5Z0rxAU.jpg)\n",
    "    \n",
    "<details>\n",
    "    <summary>Tipps:</summary>\n",
    "    <p>Nutze die Markdown-Referenz aus dem \"Help\" Menu.</p>\n",
    "    <details>\n",
    "        <summary>Tipp</summary>\n",
    "        <p>Die Nummerierung der Überschriften ergibt sich automatisch, wenn sie in der linken Seitenleiste im Tab \"Table of Contents\" mit Hilfe des Buttons \"Toggle Auto-Numbering\" eingeschalten wird.</p>\n",
    "    </details>\n",
    "</details>"
   ]
  },
  {
   "cell_type": "markdown",
   "id": "9477d623",
   "metadata": {},
   "source": [
    "---"
   ]
  },
  {
   "cell_type": "markdown",
   "id": "dd1b2b26-ac1e-4e32-b4c5-3229d47e5960",
   "metadata": {},
   "source": [
    "## Navigation durch ein Jupyter Notebook\n",
    "\n",
    "Einzelne Zellen lassen sich per Einfachklick auf die Zelle selektieren. Dies wird durch einen blauen Balken links von der Zelle angezeigt. Code Zellen sind danach sofort editierbar (Cursor ist am Ort, wo geklickt wurde). Um Markdown Inhaltszellen zu bearbeiten, braucht es einen Doppelklick. \n",
    "\n",
    "Um die Zellen auszuführen (Code: Programm wird ausgeführt, Inhalt: Markdown wird gerendert) kann man jederzeit während der Bearbeitung einer Zelle Shift+Enter drücken. Damit wird auch automatisch die nächste Zelle selektiert (wenn man nur die aktuelle Zelle ausführen will ohne die nächste zu selektieren, kann man Ctrl+Enter drücken).\n",
    "\n",
    "Aus programmiertechnischer Sicht ist es wichtig zu verstehen, dass alle Code Zellen eines Notebooks zusammenhängen. Wenn also in irgendeiner Zelle eine Variable definiert wurde, kann in einer anderen Zelle darauf zugegriffen werden. Es spielt dabei keine Rolle, ob die entsprechende Zelle weiter oben oder unten im Notebook auftaucht, allein die Reihenfolge der Ausführung ist entscheidend. Diese Ausführungsreihenfolge wird mit einer Nummer links von der Zelle in eckigen Klammern aufgeführt, sobald die Zelle ausgeführt wurde.\n",
    "\n",
    "Um das Inhaltsverzeichnis eines Notebooks zu sehen, muss im Bereich der linken Seitenleiste das Symbol mit den drei Punkten und Strichen <img src=\"https://i.imgur.com/k9KKTWZ.png\" width=\"25px\"> geklickt werden, dann öffnet sich ein Inhaltsverzeichnis. Dieses Inhaltsverzeichnis und auch das Dokument selbst kann durch Klicken auf den Knopf mit den Zahlen 1 bis 3 und den Strichen <img src=\"https://i.imgur.com/Po2PyCd.png\" width=\"25px\"> dynamisch nummeriert werden."
   ]
  },
  {
   "cell_type": "markdown",
   "id": "de56b0f0-9d57-4b17-bab5-fe8c5ba86c41",
   "metadata": {},
   "source": [
    "## Unterschiede zwischen Jupyter Notebook und JupyterLab\n",
    "\n",
    "Das Jupyter Notebook ist grundsätzlich das eigentliche Dokument mit den Inhalten. Das JupyterLab stellt die \"Infrastruktur\" zur Verfügung, in welchem diese Jupyter Notebooks bearbeitet und ausgeführt werden können. Historisch gewachsen kann man aber auch die Notebooks ohne Lab direkt öffnen und bearbeiten (in einer weniger umfangreichen Anwendung). Wir nutzen aber JupyterLab für die Arbeit mit den Jupyter Notebooks. Wenn das Notebook plötzlich so ausschaut wie in der nachfolgenden Abbildung, dann seid ihr in der Direktansicht von Jupyter Notebook ausserhalb von JupyterLab gelandet. \n",
    "\n",
    "<img src=\"https://i.imgur.com/IjBATOr.jpg\">"
   ]
  },
  {
   "cell_type": "markdown",
   "id": "6ad0b0e4-ffcd-4798-a7ea-3bd039cc4f20",
   "metadata": {},
   "source": [
    "# Arbeiten mit Renkulab\n",
    "\n",
    "Im [README.md](../../README.md) wurde bereits erklärt wie ein eigener Fork erstellt werden kann, damit Änderungen gespeichert werden können. Damit dies zuverlässig funktioniert, sollten die Notebooks und die Session gespeichert werden. \n",
    "\n",
    "## Notebooks/Dateien speichern\n",
    "\n",
    "Enthält ein Notebook oder eine andere Datei ungespeicherte Änderungen, ist dies ersichtlich am dunklen Punkt im Notebook Tab:\n",
    "\n",
    "<img src=\"https://i.imgur.com/WtH2m8r.png\" width=\"100%\">\n",
    "\n",
    "Zum Speichern können die gewöhnten Tastaturkürzel für Windows resp. macOS, d.h. <kbd>Ctrl</kbd>+<kbd>s</kbd> resp. <kbd>CMD</kbd>+<kbd>s</kbd>, verwendet werden.\n",
    "\n",
    "Dies speichert die Dateien lokal und garantiert nicht, dass sie beim nächsten Start der Session vom Server wieder in diesem Zustand sind.\n",
    "\n",
    "## Session speichern und beenden\n",
    "\n",
    "Um Ressourcen zu sparen bitten wir dich, deine Session nach getaner Arbeit zu speichern und zu beenden. Damit beim nächsten Start der Session wieder alles im Zustand ist, wie zur Zeit der Beendigung der letzten Session, muss die Session ebenfalls (und nicht nur die einzelnen Notebooks wie oben gezeigt) gespeichert werden. \n",
    "\n",
    "### Speichern\n",
    "\n",
    "Klicke auf folgenden Knopf:\n",
    "\n",
    "<img src=\"https://i.imgur.com/oGq61NX.png\" width=\"100%\">\n",
    "\n",
    "Es öffnet sich ein Hinweis welcher dir erlaubt, eine **optionale** Nachricht für dein zukünftiges Ich zu verfassen:\n",
    "\n",
    "<img src=\"https://i.imgur.com/bN3EBLP.png\" width=\"100%\">\n",
    "\n",
    "### Beenden\n",
    "\n",
    "Klicke auf folgenden Knopf:\n",
    "\n",
    "<img src=\"https://i.imgur.com/oIZaFHg.png\" width=\"100%\">\n",
    "\n",
    "Wiederum öffnet sich ein Hinweis:\n",
    "\n",
    "<img src=\"https://i.imgur.com/NUGGj54.png\" width=\"100%\">\n",
    "\n",
    "**Bemerkung:** *commit* ist ein Begriff aus der Softwareentwicklung. Du kannst dir einfach speichern vorstellen."
   ]
  },
  {
   "cell_type": "markdown",
   "id": "f8d89ba6-0fae-45b6-9238-497853c27a35",
   "metadata": {
    "tags": []
   },
   "source": [
    "# Vorschau\n",
    "\n",
    "Nachfolgend zwei Zellen mit Python Quellcode, um ein wenig \"gluschtig\" zu machen, was mit dem Wissen aus dem Grundkurs Programmieren alles möglich ist:"
   ]
  },
  {
   "cell_type": "markdown",
   "id": "774e9e8a-0f0d-4d41-946b-210cc68b5349",
   "metadata": {},
   "source": [
    "Folgender Python Quellcode stellt eine Matrix bestehend aus Zahlen als Bild dar."
   ]
  },
  {
   "cell_type": "code",
   "execution_count": 5,
   "id": "64159296-d80c-48dd-ae5f-a0125c15019c",
   "metadata": {
    "tags": []
   },
   "outputs": [
    {
     "name": "stdout",
     "output_type": "stream",
     "text": [
      "[[203 104  93 243 188 152  62 100 124 142]\n",
      " [191   1  43 217  65 162  46   0 205  11]\n",
      " [191 108 129 190 117  87  31 112  41 211]\n",
      " [ 72 181 107 219  66 188  66  11 102  89]\n",
      " [165 202 213 120 145 190 175 245  38   7]\n",
      " [169  96 144 233 190  26 213  30   3 144]\n",
      " [ 18 110 231  18 198 185 249 163 102 221]\n",
      " [222  58 159  53 208  63   2 153 151 154]\n",
      " [147 146 241  90 153  97 186  33 135  44]\n",
      " [250  45 245  11 167 178 163 169 213 135]]\n"
     ]
    },
    {
     "data": {
      "text/plain": [
       "<matplotlib.image.AxesImage at 0x7fce8c6a3d90>"
      ]
     },
     "execution_count": 5,
     "metadata": {},
     "output_type": "execute_result"
    },
    {
     "data": {
      "image/png": "[encoded data removed]",
      "text/plain": [
       "<Figure size 640x480 with 1 Axes>"
      ]
     },
     "metadata": {},
     "output_type": "display_data"
    }
   ],
   "source": [
    "%matplotlib inline\n",
    "\n",
    "import numpy as np\n",
    "from matplotlib import pyplot as plt\n",
    "\n",
    "array = np.random.randint(low = 0, high = 255, size = (10,10))\n",
    "print(array)\n",
    "\n",
    "plt.imshow(array, cmap = 'gray')"
   ]
  },
  {
   "cell_type": "markdown",
   "id": "af8b7135-acf4-4046-9401-6fa322d18b21",
   "metadata": {},
   "source": [
    "Folgender Quelltext fragt eine Web API nach Daten ab und gibt den Zeitpunkt des jeweils aktuellen Sonnenaufgangs in Bern an:"
   ]
  },
  {
   "cell_type": "code",
   "execution_count": 6,
   "id": "c676fb7f-0fb8-4e3c-b9c1-57b0a85564f4",
   "metadata": {
    "tags": []
   },
   "outputs": [
    {
     "name": "stdout",
     "output_type": "stream",
     "text": [
      "Heutiger Sonnenaufgang in Bern: 7:05:54 AM\n"
     ]
    }
   ],
   "source": [
    "import requests\n",
    "\n",
    "response = requests.get(\"https://api.sunrisesunset.io/json?lat=46.94809&lng=7.44744&date=today\").json()\n",
    "\n",
    "print(\"Heutiger Sonnenaufgang in Bern:\", response[\"results\"][\"sunrise\"])"
   ]
  },
  {
   "cell_type": "markdown",
   "id": "557d27ea-8cee-456b-9e11-330a329daeb5",
   "metadata": {
    "tags": []
   },
   "source": [
    "# Zusammenfassung\n",
    "\n",
    "Im vorliegenden Notebook wurde gezeigt, was Programmieren ist, was die Funktion eines Quelltextes ist und was dessen Ausführung bedeutet. Das PRIMM Modell als pädagogische Grundlage des Grundkurses Programmieren wurde eingeführt und es wurde darauf hingewiesen, dass es sehr wichtig ist, Zellen mit Quellcode erst dann auszuführen, nachdem ein eigener Versuch erfolgt ist, vorherzusagen, was die Ausführung der Zelle bewirken wird.\n",
    "\n",
    "Weiter wurde JupyterLab als Lern- und Arbeitsumgebung für den Grundkurs Programmieren eingeführt und die grundsätzliche Funktionsweise eines zellbasierten interaktiven Notebooks wie Jupyter erläutert. Zuletzt wurde aufgezeigt, wie mit dem Respository von Renkulab als persönlicher Fork gearbeitet werden kann, um eigene vorgenommene Änderungen zu speichern."
   ]
  },
  {
   "cell_type": "markdown",
   "id": "f1281d63-de2e-4dea-90af-93d05ad0f4a1",
   "metadata": {},
   "source": [
    "# Impressum\n",
    "\n",
    "<a rel=\"license\" href=\"http://creativecommons.org/licenses/by-sa/4.0/\"><img alt=\"Creative Commons Lizenzvertrag\" style=\"border-width:0\" src=\"https://mirrors.creativecommons.org/presskit/buttons/88x31/svg/by-sa.svg\" /></a><br />Dieses Werk ist lizenziert unter einer <a rel=\"license\" href=\"http://creativecommons.org/licenses/by-sa/4.0/\">Creative Commons Namensnennung - Weitergabe unter gleichen Bedingungen 4.0 International Lizenz</a>.\n",
    "\n",
    "Autoren: [Noe Thalheim](mailto:noe.thalheim@bfh.ch), [Benedikt Hitz-Gamper](mailto:benedikt.hitz@unibe.ch)\n",
    "\n",
    "\n",
    "```\n",
    "Talk is cheap.\n",
    "Show me the code.\n",
    "```"
   ]
  }
 ],
 "metadata": {
  "kernelspec": {
   "display_name": "Python 3 (ipykernel)",
   "language": "python",
   "name": "python3"
  },
  "language_info": {
   "codemirror_mode": {
    "name": "ipython",
    "version": 3
   },
   "file_extension": ".py",
   "mimetype": "text/x-python",
   "name": "python",
   "nbconvert_exporter": "python",
   "pygments_lexer": "ipython3",
   "version": "3.10.8"
  },
  "toc-autonumbering": true,
  "toc-showcode": false,
  "toc-showmarkdowntxt": false,
  "toc-showtags": false,
  "vscode": {
   "interpreter": {
    "hash": "b0fa6594d8f4cbf19f97940f81e996739fb7646882a419484c72d19e05852a7e"
   }
  }
 },
 "nbformat": 4,
 "nbformat_minor": 5
}
