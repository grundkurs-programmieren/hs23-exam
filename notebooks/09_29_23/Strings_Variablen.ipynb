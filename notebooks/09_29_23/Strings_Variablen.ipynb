{
 "cells": [
  {
   "cell_type": "markdown",
   "id": "b2e4790f-2a43-48f2-b23c-3fd8e62dce30",
   "metadata": {
    "editable": true,
    "slideshow": {
     "slide_type": ""
    },
    "tags": []
   },
   "source": [
    "<img src=\"https://i.imgur.com/XSzy00d.png\" style=\"float:right;width:150px\">\n",
    "\n",
    "**Strings und Variablen**\n",
    "\n",
    "# Einleitung\n",
    "\n",
    "## Lernziele:\n",
    "\n",
    "- Sie können mittels `print()` und `input()` mit dem Computer interagieren\n",
    "- Sie können Strings mit Hilfe von **String Concatenation** zusammenführen\n",
    "- Sie verwenden das Prinzip von **Variablen**, um Wiederholungen zu vermeiden"
   ]
  },
  {
   "cell_type": "markdown",
   "id": "21f7ff58-4a81-422d-90b5-22d7208ba455",
   "metadata": {
    "editable": true,
    "slideshow": {
     "slide_type": ""
    },
    "tags": []
   },
   "source": [
    "## Mensch-Computer Interaktion\n",
    "\n",
    "\n",
    "Im Zentrum dieses Notebooks steht die Interaktion zwischen Menschen und dem Computer. Bei dieser Interaktion stehen **Input** und **Ouput** im Zentrum. Um den Einstieg zu vereinfachen, wird in diesem Notebook mittels *Text*-Input und *Text*-Output gearbeitet. \n",
    "\n",
    "In vielen (allen?) Python-Tutorials beginnt der Einstieg mit der `print()` Funktion also dem Output. Wir empfinden Input als motivierender und deshalb beginnen wir damit:\n",
    "\n",
    "# Die `input()` Funktion\n",
    "\n",
    "Wird `input()` in einer Code-Zelle verwendet, so erscheint bei Ausführung dieser Zelle ein Textfeld, welches einen Input erwartet. Damit lässt sich dem Computer etwas mitteilen:"
   ]
  },
  {
   "cell_type": "markdown",
   "id": "3fd8ab33",
   "metadata": {
    "editable": true,
    "slideshow": {
     "slide_type": ""
    },
    "tags": [
     "exercise"
    ]
   },
   "source": [
    "<div class=\"gk-exercise\">\n",
    "    \n",
    "<img src=\"https://i.imgur.com/JyhBeDB.png\" class=\"gk-exercise-image\" style=\"float:right;width:150px\">\n",
    "    \n",
    "<span class=\"gk-exercise-label\">Aufgabe</span> \n",
    "    \n",
    "\n",
    "- Erstelle eine neue Code-Zelle\n",
    "- Schreib folgenden Code: `input()`\n",
    "- Führe die Zelle aus\n",
    "- Gib deinen Namen ein\n",
    "- Schliesse die Eingabe mit \"Enter\" ab\n",
    "\n",
    "Nach dem Ausführen solltest du unterhalb der Zelle deinen Namen sehen, etwa so:\n",
    "\n",
    "![](https://i.imgur.com/fgUfjig.png)\n",
    "\n",
    "</div>"
   ]
  },
  {
   "cell_type": "code",
   "execution_count": null,
   "id": "0f9e91ee",
   "metadata": {
    "nbgrader": {
     "grade": false,
     "grade_id": "cell-2527aea205b0ccf6",
     "locked": false,
     "schema_version": 3,
     "solution": true,
     "task": false
    },
    "tags": []
   },
   "outputs": [],
   "source": [
    "### BEGIN SOLUTION\n",
    "input()\n",
    "### END SOLUTION"
   ]
  },
  {
   "cell_type": "markdown",
   "id": "57890085-7af1-4518-bdbb-aa5b34d691ce",
   "metadata": {},
   "source": [
    "---"
   ]
  },
  {
   "cell_type": "markdown",
   "id": "99463477",
   "metadata": {},
   "source": [
    "Solange die Eingabe nicht mit \"Enter\" abgeschlossen wird, wartet der Computer auf weitere Zeichen und die Ausführung des restlichen Programms ist gestoppt. Das Bild der vorherigen Aufgabe ist nur zum Teil als Witz zu verstehen. Computer sind sehr gut darin exakte, Anweisungen zu befolgen und eben dies soll das Bild verdeutlichen. \n",
    "\n",
    "Um der Benutzerin mitzuteilen, was der Computer als Eingabe erwartet kann der `input()` Funktion einen Hilfstext mitgegeben werden:"
   ]
  },
  {
   "cell_type": "code",
   "execution_count": null,
   "id": "94a9269c",
   "metadata": {
    "tags": []
   },
   "outputs": [],
   "source": [
    "input('Bitte gib deinen Namen ein:')"
   ]
  },
  {
   "cell_type": "markdown",
   "id": "89fc5ed5-4d0a-464f-92c2-25c42b508b21",
   "metadata": {
    "jp-MarkdownHeadingCollapsed": true,
    "tags": []
   },
   "source": [
    "Was genau passiert hier? Das `input()` am Anfang der Zeile ist der Name einer Funktion. Python weiss bereits, was diese Funktion tun soll - ohne dass die Nutzerin hier genauer erklären müsste, was die `input()` Funktion genau machen müsste. Diese Funktion wird beim Ausführen der Zelle dann tätig. Wie der Name impliziert wird bei Ausführung ein *Input* erwartet. In den kommenden Wochen werden weitere Funktionen vorgestellt und es wird gezeigt, wie eigene Funktionen **definiert** werden können. \n",
    "\n",
    "Nach den Zeichen `input` folgt ein Klammernpaar `(` `)` damit wird Python mitgeteilt, dass `input()` **aufgerufen** werden soll. Zwischen den Klammern folgt der Text welcher ausgegeben werden soll, damit die Nutzerin weiss, welcher Input erwartet wird.\n",
    "\n",
    "Wenn über Funktionen gesprochen wird, werden diese im Normalfall mit runden Klammern bezeichnet - dies zeigt der Nutzerin und dem Computer, dass es sich um Funktionen handelt: `input()`, `print()`, etc. Was es mit den Klammern genau auf sich hat und was in den Klammern noch für Infos stehen können, wird [später](../Woche_4/Keywords_Funktionen.ipynb#Funktionen-mit-Parametern) klar werden."
   ]
  },
  {
   "cell_type": "markdown",
   "id": "6d183eff-7288-47df-976c-d340a9f8c333",
   "metadata": {
    "tags": []
   },
   "source": [
    "# Strings"
   ]
  },
  {
   "cell_type": "markdown",
   "id": "4bf1e705-61c7-4e73-94ab-7d932ba7998f",
   "metadata": {
    "jp-MarkdownHeadingCollapsed": true,
    "tags": []
   },
   "source": [
    "In Python wird Text, der in Anführungszeichen eingeschlossen ist, als **String** bezeichnet. Strings sind ein sehr wichtiges Konzept in der Programmierung und werden oft vorkommen. Strings sind im Wesentlichen eine Möglichkeit, Text (Wörter, Namen, Adressen, Zitate usw.) in einem Programm darzustellen. Strings können entweder mit einfachen oder doppelten Anführungszeichen aufgeschrieben werden."
   ]
  },
  {
   "cell_type": "markdown",
   "id": "90340ed2",
   "metadata": {
    "tags": [
     "exercise"
    ]
   },
   "source": [
    "<div class=\"gk-exercise\">\n",
    "    \n",
    "<img src=\"https://i.imgur.com/JyhBeDB.png\" class=\"gk-exercise-image\" style=\"float:right;width:150px\">\n",
    "    \n",
    "<span class=\"gk-exercise-label\">Aufgabe</span> \n",
    "    \n",
    "\n",
    "- Kopiere die vorherige Code-Zelle\n",
    "- Ersetze die beiden `'` durch `\"`\n",
    "- Führe die Zelle aus\n",
    "\n",
    "</div>"
   ]
  },
  {
   "cell_type": "code",
   "execution_count": null,
   "id": "3c23e463",
   "metadata": {
    "nbgrader": {
     "grade": false,
     "grade_id": "cell-b7f06f9c0f0bce75",
     "locked": false,
     "schema_version": 3,
     "solution": true,
     "task": false
    },
    "tags": []
   },
   "outputs": [],
   "source": [
    "### BEGIN SOLUTION\n",
    "input(\"Bitte gib deinen Namen ein:\")\n",
    "### END SOLUTION"
   ]
  },
  {
   "cell_type": "markdown",
   "id": "d502f330-3d99-40a2-a604-54c9c38aa03a",
   "metadata": {},
   "source": [
    "---"
   ]
  },
  {
   "cell_type": "markdown",
   "id": "a9c0d762",
   "metadata": {},
   "source": [
    "Nach dem Ausführen sollte die genau gleiche Eingabeaufforderung wie zuvor erscheinen. Python versteht, dass Text welcher von `'` oder `\"` umschlossen ist, als String zu **interpretieren** ist. \n",
    "\n",
    "Doch wozu sind verschiedene Anführungszeichen`'` **und** `\"` notwendig?"
   ]
  },
  {
   "cell_type": "markdown",
   "id": "3e7801ba",
   "metadata": {
    "tags": [
     "exercise"
    ]
   },
   "source": [
    "<div class=\"gk-exercise\">\n",
    "    \n",
    "<img src=\"https://i.imgur.com/JyhBeDB.png\" class=\"gk-exercise-image\" style=\"float:right;width:150px\">\n",
    "    \n",
    "<span class=\"gk-exercise-label\">Aufgabe</span> \n",
    "    \n",
    "\n",
    "- Erstelle eine neue Code-Zelle\n",
    "- Verwende die `input` Funktion mit der Aufforderung \"deinen Namen\" einzugeben\n",
    "- Führe die Zelle aus\n",
    "\n",
    "<details>\n",
    "    <summary>Tipp:</summary>\n",
    "    Möchtest du in deiner Ausgabe ' verwenden musst du \" zum Deklarieren verwenden und umgekehrt. \n",
    "</details>\n",
    "\n",
    "\n",
    "\n",
    "</div>"
   ]
  },
  {
   "cell_type": "code",
   "execution_count": null,
   "id": "649433ca",
   "metadata": {
    "nbgrader": {
     "grade": false,
     "grade_id": "cell-c43c4563bef794b3",
     "locked": false,
     "schema_version": 3,
     "solution": true,
     "task": false
    },
    "tags": []
   },
   "outputs": [],
   "source": [
    "### BEGIN SOLTUION\n",
    "input('Gib \"deinen Namen\" ein:')\n",
    "### END SOLUTION"
   ]
  },
  {
   "cell_type": "markdown",
   "id": "68dfb2f1-ea31-480e-85e6-f5dbd6dcb8ec",
   "metadata": {},
   "source": [
    "---"
   ]
  },
  {
   "cell_type": "markdown",
   "id": "e9d0b93a",
   "metadata": {},
   "source": [
    "## String Concatenation \n",
    "\n",
    "Angenommen, es soll eine Person nach ihrem Namen gefragt werden und diese Person dann anschliessend begrüsst werden. Dazu müssen ein vordefinierter String, nämlich die Begrüssung, mit der Eingabe \"verbunden\" werden:"
   ]
  },
  {
   "cell_type": "code",
   "execution_count": null,
   "id": "fac2a308",
   "metadata": {},
   "outputs": [],
   "source": [
    "\"Hallo \" + input(\"Gib deinen Namen ein:\")"
   ]
  },
  {
   "cell_type": "markdown",
   "id": "cb724463",
   "metadata": {},
   "source": [
    "Dieses \"Verbinden\" von Strings wird beim Programmieren als **String Concatenation** bezeichnet.\n",
    "\n",
    "> Beim Programmieren in verschiedenen Sprachen, ist es hilfreich den Namen eines Konzept zu kennen. Möchtest du z.B. wissen wie in der Programmiersprache *R* zwei Zeichenketten (Strings) \"verbunden\" werden, liefert deine Lieblingssuchmaschine für folgende Anfrage: \"R String Concatenation\"  die entsprechende Antwort."
   ]
  },
  {
   "cell_type": "markdown",
   "id": "b6a261b6",
   "metadata": {
    "tags": [
     "exercise"
    ]
   },
   "source": [
    "<div class=\"gk-exercise\">\n",
    "    \n",
    "<img src=\"https://i.imgur.com/JyhBeDB.png\" class=\"gk-exercise-image\" style=\"float:right;width:150px\">\n",
    "    \n",
    "<span class=\"gk-exercise-label\">Aufgabe</span> \n",
    "\n",
    "- Kopiere die vorherige Code-Zelle\n",
    "- Ändere den Code damit zwei Personen begrüsst werden\n",
    "- Führe die Zelle aus\n",
    "\n",
    "</div>"
   ]
  },
  {
   "cell_type": "code",
   "execution_count": null,
   "id": "053b9361",
   "metadata": {
    "nbgrader": {
     "grade": false,
     "grade_id": "cell-b7e051a92cf85daf",
     "locked": false,
     "schema_version": 3,
     "solution": true,
     "task": false
    },
    "tags": []
   },
   "outputs": [],
   "source": [
    "### BEGIN SOLUTION\n",
    "\"Hallo \" + input(\"Gib den ersten Namen ein: \") + \" und \" + input('Gib den zweiten Namen ein: ')\n",
    "### END SOLUTION"
   ]
  },
  {
   "cell_type": "markdown",
   "id": "07e36d32-fab4-428f-a466-4c64f422ab7c",
   "metadata": {},
   "source": [
    "---"
   ]
  },
  {
   "cell_type": "markdown",
   "id": "ea1920bf",
   "metadata": {},
   "source": [
    "# Variablen\n",
    "\n",
    "Programmiererinnen und Programmierer **verabscheuen Wiederholungen**. Ein immer wiederkehrendes Prinzip beim Programmieren ist deshalb die Frage: \"Wie kann das einfacher programmiert werden?\". Dazu folgendes Statement:"
   ]
  },
  {
   "cell_type": "code",
   "execution_count": null,
   "id": "2524d0df",
   "metadata": {},
   "outputs": [],
   "source": [
    "\"Sarah spielt gern Klavier. Jeden Abend übt Sarah für mindestens eine Stunde.\""
   ]
  },
  {
   "cell_type": "markdown",
   "id": "f7c9eb4a",
   "metadata": {
    "tags": [
     "exercise"
    ]
   },
   "source": [
    "<div class=\"gk-exercise\">\n",
    "    \n",
    "<img src=\"https://i.imgur.com/JyhBeDB.png\" class=\"gk-exercise-image\" style=\"float:right;width:150px\">\n",
    "    \n",
    "<span class=\"gk-exercise-label\">Aufgabe</span> \n",
    "\n",
    "Ändere das vorherige Statement so ab, dass mittels `input()` `\"Sarah\"` durch einen von dir gewählten Namen ersetzt wird\n",
    "\n",
    "</div>"
   ]
  },
  {
   "cell_type": "code",
   "execution_count": null,
   "id": "b2a6a044",
   "metadata": {
    "nbgrader": {
     "grade": false,
     "grade_id": "cell-c949cd2ba5367d4e",
     "locked": false,
     "schema_version": 3,
     "solution": true,
     "task": false
    },
    "tags": []
   },
   "outputs": [],
   "source": [
    "### BEGIN SOLUTION\n",
    "\n",
    "(input(\"Bitte gib einen Namen ein:\") +  \" spielt gern Klavier. Jeden Abend übt \" + \n",
    " input(\"Bitte wiederhole den Namen:\") + \" für mindestens eine Stunde.\")\n",
    "\n",
    "### END SOLUTION"
   ]
  },
  {
   "cell_type": "markdown",
   "id": "a0c53e5e-b765-49c3-b577-7501aa4a19a5",
   "metadata": {},
   "source": [
    "---"
   ]
  },
  {
   "cell_type": "markdown",
   "id": "ccd45a8e",
   "metadata": {},
   "source": [
    "Bei diesem Ansatz ist das Problem, dass zweimal der gleiche Namen eingeben werden muss. Dies ist fehleranfällig und aufwändig (Programmierinnen lieben einfache und elegante Lösungen - haben wir das schon erwähnt?)! Besser geht es mit einer **Variable**, die eine Zeichenkette \n",
    "**repräsentiert** und wiederverwendet werden kann:\n",
    "\n",
    "> Wir verwenden die Begriffe String und Zeichenkette synonym (der deutsche Begriff Zeichenkette veranschaulicht gut, um was es sich bei einem String handelt.)\n",
    "\n",
    "Eine neue Variable wird in Python folgendermassen zugewiesen resp. **deklariert**:"
   ]
  },
  {
   "cell_type": "code",
   "execution_count": null,
   "id": "73abb3c6",
   "metadata": {
    "tags": []
   },
   "outputs": [],
   "source": [
    "name = input(\"Bitte gib einen Namen ein:\")"
   ]
  },
  {
   "cell_type": "markdown",
   "id": "f68bf7a1",
   "metadata": {},
   "source": [
    "Hier wird die Eingabe `input()` der Variable `name` mittels des Symbols `=` **zugewiesen**.\n",
    "\n",
    "> Wir sagen auch `input()` gibt einen String zurück, mehr dazu [später](../Woche_4/Keywords_Funktionen.ipynb#Eigene-Funktionen-definieren-und-nutzen).\n",
    "\n",
    "Die Zuweisung darf nicht mit einer mathematischen Gleichheit verwechselt werden. Sobald eine Variable deklariert wurde, kann sie in allen weiteren Zeilen der **aktuellen Zelle** und auch in den **nachfolgend ausgeführten** Zellen verwendet werden:"
   ]
  },
  {
   "cell_type": "code",
   "execution_count": null,
   "id": "8dd05f22",
   "metadata": {
    "tags": []
   },
   "outputs": [],
   "source": [
    "name + \" spielt gern Klavier. Jeden Abend übt \" + name + \" für mindestens eine Stunde.\""
   ]
  },
  {
   "cell_type": "markdown",
   "id": "ff1b9ac8",
   "metadata": {},
   "source": [
    "Bei der Einführung zu [Code-Zellen](../Woche_1/Einfuehrung.ipynb#Code-Zellen) wurden die drei Zustände erwähnt, unter *nachfolgend ausgeführten Zellen* werden alle Zellen verstanden, welche eine höhere Zellen Nummer haben. \n",
    "\n",
    "> Die Reihenfolge der Zellen innerhalb eines Notebook von Oben nach Unten spielt keine Rolle, nur die Reihenfolge der Ausführung. \n",
    "\n",
    "\n",
    "Auch weitere Variablen können in das Statement eingebaut werden:"
   ]
  },
  {
   "cell_type": "code",
   "execution_count": null,
   "id": "3ff6434b",
   "metadata": {
    "tags": []
   },
   "outputs": [],
   "source": [
    "instrument = input(\"Gib ein Instrument ein:\")"
   ]
  },
  {
   "cell_type": "code",
   "execution_count": null,
   "id": "05ee2a02",
   "metadata": {
    "tags": []
   },
   "outputs": [],
   "source": [
    "name + \" spielt gern \" + instrument + \". Jeden Abend übt \" + name + \" für mindestens eine Stunde.\""
   ]
  },
  {
   "cell_type": "markdown",
   "id": "bbeb9c3f",
   "metadata": {
    "tags": [
     "exercise"
    ]
   },
   "source": [
    "<div class=\"gk-exercise\">\n",
    "\n",
    "<img src=\"https://i.imgur.com/JyhBeDB.png\" class=\"gk-exercise-image\" style=\"float:right;width:150px\">\n",
    "\n",
    "<span class=\"gk-exercise-label\">Aufgabe</span> \n",
    "\n",
    "Nutze <code>input()</code>, um nach einem Instrument zu fragen. Nutze dabei die Möglichkeit, bei der Frage nach Instrument, die bereits definierte Variable <code>name</code> zu verwenden, um die Nutzerin persönlich anzusprechen.\n",
    "\n",
    "<details>\n",
    "    <summary>Tipp:</summary>\n",
    "    Nutze innerhalb von <code>input()</code> die Möglichkeit der String Concatenation von <code>name</code> mit der Frage nach dem Instrument. \n",
    "</details>\n",
    "\n",
    "</div>"
   ]
  },
  {
   "cell_type": "code",
   "execution_count": null,
   "id": "7b254cde",
   "metadata": {
    "nbgrader": {
     "grade": false,
     "grade_id": "cell-5f7ed8dc927dd71c",
     "locked": false,
     "schema_version": 3,
     "solution": true,
     "task": false
    },
    "tags": []
   },
   "outputs": [],
   "source": [
    "### BEGIN SOLUTION\n",
    "instrument = input(name + \" welches Instrument spielst du?\")\n",
    "### END SOLUTION"
   ]
  },
  {
   "cell_type": "markdown",
   "id": "b25596e8-4e03-4ec1-a664-034d0e047671",
   "metadata": {},
   "source": [
    "---"
   ]
  },
  {
   "cell_type": "markdown",
   "id": "4e2de66c",
   "metadata": {},
   "source": [
    "Am Anfang wurde erwähnt, dass die meisten Python Tutorial mit Output statt Input beginnen. Der Grund dafür liegt auch darin, das in diesem Notebook ein Feature benutzt wurde, welches im Allgemeinen nicht zur Verfügung steht: Statements in der letzten Zeile einer Zelle werden standardmässig ausgegeben. Folgendes Beispiel soll das erläutern:"
   ]
  },
  {
   "cell_type": "code",
   "execution_count": null,
   "id": "00656f8d",
   "metadata": {
    "tags": []
   },
   "outputs": [],
   "source": [
    "\"Hallo \" + input(\"Gib einen Namen ein:\")\n",
    "\"Es freut uns besuchst du unseren Kurs!\"\n",
    "\"Gruss Noe und Bene\""
   ]
  },
  {
   "cell_type": "markdown",
   "id": "ff4c7e51",
   "metadata": {},
   "source": [
    "Beim mehrmaligen Ausführen des Beispiel wird klar, egal welche Eingabe getätigt wird, die Ausgabe bleibt `'Gruss Noe und Bene'`. Zeit, das Funktionsrepertiore als Programmiererin zu erweitern:"
   ]
  },
  {
   "cell_type": "markdown",
   "id": "70f127c3",
   "metadata": {},
   "source": [
    "# Die `print` Funktion"
   ]
  },
  {
   "cell_type": "markdown",
   "id": "bf5ae27a",
   "metadata": {
    "tags": [
     "exercise"
    ]
   },
   "source": [
    "<div class=\"gk-exercise\">\n",
    "    \n",
    "<img src=\"https://i.imgur.com/JyhBeDB.png\" class=\"gk-exercise-image\" style=\"float:right;width:150px\">\n",
    "    \n",
    "<span class=\"gk-exercise-label\">Aufgabe</span> \n",
    "\n",
    "- Schreib folgenden Code in die nachfolgende Zelle: `print('To code or not to code')`\n",
    "- Führe die Zelle aus\n",
    "\n",
    "</div>"
   ]
  },
  {
   "cell_type": "code",
   "execution_count": null,
   "id": "39fac094",
   "metadata": {
    "nbgrader": {
     "grade": false,
     "grade_id": "cell-77e1d6177859d98c",
     "locked": false,
     "schema_version": 3,
     "solution": true,
     "task": false
    },
    "tags": []
   },
   "outputs": [],
   "source": [
    "### BEGIN SOLUTION\n",
    "print('To code or not to code')\n",
    "### END SOLUTION"
   ]
  },
  {
   "cell_type": "markdown",
   "id": "9f494c0f-0fef-4916-878a-899232993201",
   "metadata": {},
   "source": [
    "---"
   ]
  },
  {
   "cell_type": "markdown",
   "id": "0bfe30dd",
   "metadata": {},
   "source": [
    "Wie bei `input()` können auch bei `print()` Strings mittels `'` und `\"` übergeben und eine String Concatenation verwendet werden:"
   ]
  },
  {
   "cell_type": "code",
   "execution_count": null,
   "id": "79c75aad",
   "metadata": {},
   "outputs": [],
   "source": [
    "print(\"Hallo \" + name)"
   ]
  },
  {
   "cell_type": "markdown",
   "id": "36ce38dd",
   "metadata": {},
   "source": [
    "`print()` generiert immer eine Ausgabe, egal ob die Funktion in der letzten Zeile steht oder nicht!"
   ]
  },
  {
   "cell_type": "markdown",
   "id": "145c9266",
   "metadata": {
    "tags": [
     "exercise"
    ]
   },
   "source": [
    "<div class=\"gk-exercise\">\n",
    "    \n",
    "<img src=\"https://i.imgur.com/JyhBeDB.png\" class=\"gk-exercise-image\" style=\"float:right;width:150px\">\n",
    "    \n",
    "<span class=\"gk-exercise-label\">Aufgabe</span> \n",
    "    \n",
    "Generiere mittels der Variable `name` und String Concatenation die folgende Ausgabe auf drei Zeilen:\n",
    "\n",
    "```\n",
    "Hallo [name]\n",
    "Es freut uns besuchst du unseren Kurs!\n",
    "Gruss Noe und Bene\n",
    "```\n",
    "<br>\n",
    "Dabei soll `[name]` dem Wert der Variable `name` entsprechen.\n",
    "\n",
    "</div>"
   ]
  },
  {
   "cell_type": "code",
   "execution_count": null,
   "id": "a3b06d20",
   "metadata": {
    "nbgrader": {
     "grade": false,
     "grade_id": "cell-26f55b9b875a7f1a",
     "locked": false,
     "schema_version": 3,
     "solution": true,
     "task": false
    },
    "tags": []
   },
   "outputs": [],
   "source": [
    "### BEGIN SOLUTION\n",
    "print(\"Hallo \" + name)\n",
    "print(\"Es freut uns, besuchst du unseren Kurs!\")\n",
    "print(\"Gruss Noe und Bene\")\n",
    "### END SOLUTION"
   ]
  },
  {
   "cell_type": "markdown",
   "id": "27bb90c6-a7ca-4477-9cbc-d73381ceea25",
   "metadata": {},
   "source": [
    "---"
   ]
  },
  {
   "cell_type": "markdown",
   "id": "a80d565a",
   "metadata": {},
   "source": [
    "Bei der letzten Aufgabe wurde ersichtlich, dass `print()` immer einen Zeilenumbruch hinzufügt. Dies liegt daran, dass die `print` Funktion standardmässig ein spezielles Zeichen ans Ende des Strings hinzufügt, ein sogenanntes *newline* Zeichen. Das newline Zeichen wird als Zeilenumbruch interpretiert. \n",
    "\n",
    "Um einen Zeilenumbruch innerhalb eines String hinzuzufügen, kann dieses newline Zeichen auch explizit angewandt werden, indem ein `\\n` eingefügt wird:"
   ]
  },
  {
   "cell_type": "markdown",
   "id": "c98f6da2",
   "metadata": {
    "tags": [
     "exercise"
    ]
   },
   "source": [
    "<div class=\"gk-exercise\">\n",
    "    \n",
    "<img src=\"https://i.imgur.com/JyhBeDB.png\" class=\"gk-exercise-image\" style=\"float:right;width:150px\">\n",
    "    \n",
    "<span class=\"gk-exercise-label\">Aufgabe</span> \n",
    "\n",
    "Hier sind drei Varianten von `print` zusammen mit dem newline Zeichen. Welche Ausgabe erwartetst du jeweils?\n",
    "\n",
    "\n",
    "1.\n",
    "\n",
    "```\n",
    "print(\"To\\ncode\\nor\\nnot\\nto\\ncode\")\n",
    "```\n",
    "\n",
    "\n",
    "\n",
    "2.\n",
    "\n",
    "```\n",
    "print(\"To code\\nor not\")\n",
    "print(\"to code\")\n",
    "```\n",
    "\n",
    "3.\n",
    "\n",
    "```\n",
    "print(\"To code\")\n",
    "print(\"or not\\n\\n\")\n",
    "print(\"to code\")\n",
    "```\n",
    "\n",
    "</div>"
   ]
  },
  {
   "cell_type": "code",
   "execution_count": null,
   "id": "8fe10a5c-61d5-448e-bbc3-4bfba780bfad",
   "metadata": {
    "nbgrader": {
     "grade": false,
     "grade_id": "cell-b09ae3659faa299f",
     "locked": false,
     "schema_version": 3,
     "solution": true,
     "task": false
    },
    "tags": []
   },
   "outputs": [],
   "source": [
    "### YOUR ANSWER HERE"
   ]
  },
  {
   "cell_type": "markdown",
   "id": "e1c05a07-734b-4280-bf3c-fb1c5d01ef3c",
   "metadata": {},
   "source": [
    "---"
   ]
  },
  {
   "cell_type": "markdown",
   "id": "f90d61b7",
   "metadata": {},
   "source": [
    "Der `print`-Funktion kann auch die Anweisung geben werden, standardmäßig kein `\\n` am Ende des Ausdrucks zu setzen:"
   ]
  },
  {
   "cell_type": "code",
   "execution_count": null,
   "id": "f15e4e68",
   "metadata": {},
   "outputs": [],
   "source": [
    "print(\"to code\", end=' ')\n",
    "print(\"or not\", end=' ')\n",
    "print(\"to code\", end=' ')"
   ]
  },
  {
   "cell_type": "markdown",
   "id": "c7f99af1",
   "metadata": {},
   "source": [
    "In dieser Zelle wird der `print` Funktion mitgeteilt, dass ein Leerzeichen (`' '`) statt eines newline (`\\n`) Zeichens am Ende des Strings hinzugefügt werden soll. Mehr zu diesen Anweisungen [später](../Woche_4/Keywords_Funktionen.ipynb#Funktionen-mit-Parametern)."
   ]
  },
  {
   "cell_type": "markdown",
   "id": "8e42187d-fb9d-4e69-931f-1fe7d6c0c65e",
   "metadata": {
    "tags": [
     "exercise"
    ]
   },
   "source": [
    "---\n",
    "\n",
    "# Schlussaufgabe\n",
    "\n",
    "<div class=\"gk-exercise\">\n",
    "\n",
    "<img src=\"https://i.imgur.com/JyhBeDB.png\" class=\"gk-exercise-image\" style=\"float:right;width:150px\">\n",
    "\n",
    "<span class=\"gk-exercise-label\">Aufgabe</span> \n",
    "\n",
    "Mit ein wenig Fantasie lässt sich die folgende Ausgabe \n",
    "\n",
    "```\n",
    "  *\n",
    " ***\n",
    "*****\n",
    "  |  \n",
    "```\n",
    "\n",
    "\n",
    "als Weihnachtsbaum interpretieren.\n",
    "\n",
    "Die Schlussaufgabe für diese Woche ist es, ein Programm zu entwickeln welches:\n",
    "\n",
    "- Nach einem Zeichen für den Weihnachtsbaum fragt (als mögliche Alternative zum `*`)\n",
    "- Gemäss obenstehendem Beispiel einen Weihnachtsbaum \"zeichnet\"\n",
    "\n",
    "</div>"
   ]
  },
  {
   "cell_type": "code",
   "execution_count": null,
   "id": "0e01ac73",
   "metadata": {
    "nbgrader": {
     "grade": false,
     "grade_id": "cell-033b16454a58c7b9",
     "locked": false,
     "schema_version": 3,
     "solution": true,
     "task": false
    },
    "tags": []
   },
   "outputs": [],
   "source": [
    "### BEGIN SOLUTION\n",
    "letter = input('Type a letter to use for the Christmas tree: ')\n",
    "print('  ' + letter)\n",
    "print(' ' + letter + letter + letter)\n",
    "print(letter + letter + letter + letter + letter)\n",
    "print('  |  ')\n",
    "### END SOLUTION"
   ]
  },
  {
   "cell_type": "markdown",
   "id": "78535a8c",
   "metadata": {},
   "source": [
    "# Zusammenfassung\n",
    "\n",
    "In dieser Lektion wurden die grundlegenden Konzepte vermittelt um mit dem Computer zu Kommunizieren. Dazu wurden die Funktionen `input()` und `print()` eingeführt. Variablen wurden verwendet, um Wiederholungen zu vermeiden. Es wurde thematisiert, dass sowohl `'` und `\"` für Strings verwendet werden können und es wurde aufgezeigt, wie mittels String Concatenation Strings zusammengesetzt werden können."
   ]
  },
  {
   "cell_type": "markdown",
   "id": "839bbc30",
   "metadata": {},
   "source": [
    "# Impressum\n",
    "\n",
    "<a rel=\"license\" href=\"http://creativecommons.org/licenses/by-sa/4.0/\"><img alt=\"Creative Commons Lizenzvertrag\" style=\"border-width:0\" src=\"https://mirrors.creativecommons.org/presskit/buttons/88x31/svg/by-sa.svg\" /></a><br />Dieses Werk ist lizenziert unter einer <a rel=\"license\" href=\"http://creativecommons.org/licenses/by-sa/4.0/\">Creative Commons Namensnennung - Weitergabe unter gleichen Bedingungen 4.0 International Lizenz</a>.\n",
    "\n",
    "Autoren: [Noe Thalheim](mailto:noe.thalheim@bfh.ch), [Benedikt Hitz-Gamper](mailto:benedikt.hitz@unibe.ch)\n",
    "\n",
    "\n",
    "## Credits\n",
    "\n",
    "Einige Beispiele wurden von [PyFlo](https://pyflo.net) übernommen.\n",
    "\n",
    "```\n",
    "TO CODE OR NOT TO CODE\n",
    "```"
   ]
  }
 ],
 "metadata": {
  "kernelspec": {
   "display_name": "Python 3 (ipykernel)",
   "language": "python",
   "name": "python3"
  },
  "language_info": {
   "codemirror_mode": {
    "name": "ipython",
    "version": 3
   },
   "file_extension": ".py",
   "mimetype": "text/x-python",
   "name": "python",
   "nbconvert_exporter": "python",
   "pygments_lexer": "ipython3",
   "version": "3.10.10"
  }
 },
 "nbformat": 4,
 "nbformat_minor": 5
}
